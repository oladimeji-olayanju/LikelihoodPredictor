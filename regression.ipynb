{
 "cells": [
  {
   "cell_type": "code",
   "execution_count": 12,
   "id": "c4d62124",
   "metadata": {},
   "outputs": [
    {
     "name": "stdout",
     "output_type": "stream",
     "text": [
      "Classification Report (Binary Adopt vs Not Adopt):\n",
      "              precision    recall  f1-score   support\n",
      "\n",
      "   Not Adopt       0.69      0.85      0.76        40\n",
      "       Adopt       0.45      0.25      0.32        20\n",
      "\n",
      "    accuracy                           0.65        60\n",
      "   macro avg       0.57      0.55      0.54        60\n",
      "weighted avg       0.61      0.65      0.62        60\n",
      "\n"
     ]
    },
    {
     "name": "stderr",
     "output_type": "stream",
     "text": [
      "C:\\Users\\ASUS\\AppData\\Local\\Temp\\ipykernel_21288\\3676705400.py:20: FutureWarning: Downcasting behavior in `replace` is deprecated and will be removed in a future version. To retain the old behavior, explicitly call `result.infer_objects(copy=False)`. To opt-in to the future behavior, set `pd.set_option('future.no_silent_downcasting', True)`\n",
      "  y = y.replace({\n",
      "C:\\Users\\ASUS\\AppData\\Local\\Temp\\ipykernel_21288\\3676705400.py:33: SettingWithCopyWarning: \n",
      "A value is trying to be set on a copy of a slice from a DataFrame.\n",
      "Try using .loc[row_indexer,col_indexer] = value instead\n",
      "\n",
      "See the caveats in the documentation: https://pandas.pydata.org/pandas-docs/stable/user_guide/indexing.html#returning-a-view-versus-a-copy\n",
      "  X[col] = le.fit_transform(X[col].astype(str))\n",
      "C:\\Users\\ASUS\\AppData\\Local\\Temp\\ipykernel_21288\\3676705400.py:33: SettingWithCopyWarning: \n",
      "A value is trying to be set on a copy of a slice from a DataFrame.\n",
      "Try using .loc[row_indexer,col_indexer] = value instead\n",
      "\n",
      "See the caveats in the documentation: https://pandas.pydata.org/pandas-docs/stable/user_guide/indexing.html#returning-a-view-versus-a-copy\n",
      "  X[col] = le.fit_transform(X[col].astype(str))\n",
      "C:\\Users\\ASUS\\AppData\\Local\\Temp\\ipykernel_21288\\3676705400.py:33: SettingWithCopyWarning: \n",
      "A value is trying to be set on a copy of a slice from a DataFrame.\n",
      "Try using .loc[row_indexer,col_indexer] = value instead\n",
      "\n",
      "See the caveats in the documentation: https://pandas.pydata.org/pandas-docs/stable/user_guide/indexing.html#returning-a-view-versus-a-copy\n",
      "  X[col] = le.fit_transform(X[col].astype(str))\n",
      "C:\\Users\\ASUS\\AppData\\Local\\Temp\\ipykernel_21288\\3676705400.py:33: SettingWithCopyWarning: \n",
      "A value is trying to be set on a copy of a slice from a DataFrame.\n",
      "Try using .loc[row_indexer,col_indexer] = value instead\n",
      "\n",
      "See the caveats in the documentation: https://pandas.pydata.org/pandas-docs/stable/user_guide/indexing.html#returning-a-view-versus-a-copy\n",
      "  X[col] = le.fit_transform(X[col].astype(str))\n",
      "C:\\Users\\ASUS\\AppData\\Local\\Temp\\ipykernel_21288\\3676705400.py:33: SettingWithCopyWarning: \n",
      "A value is trying to be set on a copy of a slice from a DataFrame.\n",
      "Try using .loc[row_indexer,col_indexer] = value instead\n",
      "\n",
      "See the caveats in the documentation: https://pandas.pydata.org/pandas-docs/stable/user_guide/indexing.html#returning-a-view-versus-a-copy\n",
      "  X[col] = le.fit_transform(X[col].astype(str))\n"
     ]
    }
   ],
   "source": [
    "import pandas as pd\n",
    "from sklearn.model_selection import train_test_split\n",
    "from sklearn.preprocessing import LabelEncoder\n",
    "from sklearn.ensemble import RandomForestClassifier\n",
    "from sklearn.svm import SVC\n",
    "from sklearn.linear_model import LogisticRegression\n",
    "from sklearn.tree import DecisionTreeClassifier\n",
    "from sklearn.neighbors import KNeighborsClassifier\n",
    "from sklearn.ensemble import GradientBoostingClassifier\n",
    "\n",
    "from sklearn.metrics import classification_report\n",
    "\n",
    "# Load dataset\n",
    "df = pd.read_csv(\"ROBOVOLT_Kobo Filled Responses 300.csv\")\n",
    "\n",
    "# Target column: recommend_likelihood\n",
    "y = df['recommend_likelihood']\n",
    "\n",
    "# Binary classification: Adopt = 1, Not Adopt = 0\n",
    "y = y.replace({\n",
    "    \"Definitely would recommend\": 1,\n",
    "    \"Would not recommend\": 0,\n",
    "    \"Probably would recommend\": 0\n",
    "})\n",
    "\n",
    "# Features (you can add more later)\n",
    "X = df[['respondent_type', 'household_size', 'num_employees',\n",
    "        'monthly_household_income', 'energy_source','willingness_to_pay']]\n",
    "\n",
    "# Encode categorical features\n",
    "for col in X.select_dtypes(include=\"object\").columns:\n",
    "    le = LabelEncoder()\n",
    "    X[col] = le.fit_transform(X[col].astype(str))\n",
    "\n",
    "# Handle missing values\n",
    "X = X.fillna(0)\n",
    "\n",
    "# Train-test split\n",
    "X_train, X_test, y_train, y_test = train_test_split(\n",
    "    X, y, test_size=0.2, random_state=42, stratify=y\n",
    ")\n",
    "\n",
    "# Simple model: Random Forest (works well with categorical + numeric)\n",
    "#clf = RandomForestClassifier(random_state=42,class_weight='balanced')\n",
    "#clf = SVC(class_weight='balanced', probability=True, random_state=42)\n",
    "#clf = LogisticRegression(class_weight='balanced', max_iter=1000, random_state=42)\n",
    "#clf = DecisionTreeClassifier(class_weight='balanced', random_state=42)\n",
    "clf = GradientBoostingClassifier(random_state=42)\n",
    "#clf = KNeighborsClassifier(n_neighbors=5)\n",
    "\n",
    "clf.fit(X_train, y_train)\n",
    "\n",
    "# Predictions\n",
    "y_pred = clf.predict(X_test)\n",
    "\n",
    "# Report\n",
    "print(\"Classification Report (Binary Adopt vs Not Adopt):\")\n",
    "print(classification_report(y_test, y_pred, target_names=[\"Not Adopt\", \"Adopt\"]))\n"
   ]
  },
  {
   "cell_type": "code",
   "execution_count": 13,
   "id": "c739dc84",
   "metadata": {},
   "outputs": [
    {
     "data": {
      "text/plain": [
       "['GradientBoostingAdoption_model.pkl']"
      ]
     },
     "execution_count": 13,
     "metadata": {},
     "output_type": "execute_result"
    }
   ],
   "source": [
    "import joblib\n",
    "\n",
    "# Save model\n",
    "joblib.dump(clf, \"GradientBoostingAdoption_model.pkl\")\n",
    "\n",
    "# Later (load model)\n",
    "# clf = joblib.load(\"adoption_model.pkl\")\n"
   ]
  },
  {
   "cell_type": "code",
   "execution_count": null,
   "id": "c2f9e74c",
   "metadata": {},
   "outputs": [],
   "source": [
    "joblib.dump(clf, \"GradientBoostingAdoption_model.pkl\")\n"
   ]
  }
 ],
 "metadata": {
  "kernelspec": {
   "display_name": ".venv",
   "language": "python",
   "name": "python3"
  },
  "language_info": {
   "codemirror_mode": {
    "name": "ipython",
    "version": 3
   },
   "file_extension": ".py",
   "mimetype": "text/x-python",
   "name": "python",
   "nbconvert_exporter": "python",
   "pygments_lexer": "ipython3",
   "version": "3.12.7"
  }
 },
 "nbformat": 4,
 "nbformat_minor": 5
}
